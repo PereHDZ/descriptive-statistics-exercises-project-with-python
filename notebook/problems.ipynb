{
 "cells": [
  {
   "cell_type": "markdown",
   "id": "ac622319",
   "metadata": {},
   "source": [
    "# Descriptive statistics problems"
   ]
  },
  {
   "cell_type": "markdown",
   "id": "5e0ab0d5",
   "metadata": {},
   "source": [
    "### Exercise 1\n",
    "\n",
    "We will use NumPy to obtain information to describe statistically.\n",
    "\n",
    "- Generate an array of 100 elements following a normal distribution.\n",
    "- Generate an array of 100 elements following a chi-square distribution with 3 degrees of freedom.\n",
    "- Calculate the main metrics and statistical measures that best describe the two vectors."
   ]
  },
  {
   "cell_type": "code",
   "execution_count": 40,
   "id": "34720ab6",
   "metadata": {},
   "outputs": [
    {
     "name": "stdout",
     "output_type": "stream",
     "text": [
      "Normal distribution:\n",
      "Mean: 0.0446710614137944\n",
      "Median: 0.22807614609554433\n",
      "Mode: ModeResult(mode=np.float64(-3.7640066688065974), count=np.int64(1))\n",
      "Standard deviation: 1.0807486291609798\n",
      "Variance: 1.1680175994333373\n",
      "Min value: -3.7640066688065974\n",
      "Max value: 2.296182178065016\n",
      "Range: 6.060188846871613\n",
      "Precentiles 25 and 75: -0.6298403951413319 and 0.8518377512618893\n",
      "Chi square distribution:\n",
      "Mean: 3.2227472817801295\n",
      "Median: 2.8561594405413606\n",
      "Mode: ModeResult(mode=np.float64(0.1035192040279513), count=np.int64(1))\n",
      "Standard deviation: 2.347199671538556\n",
      "Variance: 5.509346298070706\n",
      "Min value: 0.1035192040279513\n",
      "Max value: 14.205870509859457\n",
      "Range: 14.102351305831506\n",
      "Precentiles 25 and 75: 1.412667917174314 and 4.479042072750203\n"
     ]
    }
   ],
   "source": [
    "import numpy as np\n",
    "from scipy import stats\n",
    "\n",
    "normal = np.random.normal(loc = 0, scale = 1, size = 100)\n",
    "chi_square = np.random.chisquare(df = 3, size = 100)\n",
    "\n",
    "def main_metrics (array):\n",
    "    print(f'Mean: {np.mean(array)}')\n",
    "    print(f'Median: {np.median(array)}')\n",
    "    print(f'Mode: {stats.mode(array)}')\n",
    "    print(f'Standard deviation: {np.std(array)}')\n",
    "    print(f'Variance: {np.var(array)}')\n",
    "    array_min = np.min(array)\n",
    "    array_max = np.max(array)\n",
    "    print(f'Min value: {array_min}')\n",
    "    print(f'Max value: {array_max}')\n",
    "    print(f'Range: {array_max - array_min}')\n",
    "    print(f'Precentiles 25 and 75: {np.percentile(array, 25)} and {np.percentile(array, 75)}')\n",
    "\n",
    "print('Normal distribution:')\n",
    "main_metrics(normal)\n",
    "print('Chi square distribution:')\n",
    "main_metrics(chi_square)\n"
   ]
  },
  {
   "cell_type": "markdown",
   "id": "46c70c3d",
   "metadata": {},
   "source": [
    "### Exercise 2\n",
    "\n",
    "Write a Python program to calculate the standard deviation of the following data:\n",
    "\n",
    "```py\n",
    "data = [4, 2, 5, 8, 6]\n",
    "```"
   ]
  },
  {
   "cell_type": "code",
   "execution_count": 18,
   "id": "d590308e",
   "metadata": {},
   "outputs": [
    {
     "name": "stdout",
     "output_type": "stream",
     "text": [
      "2.0\n"
     ]
    }
   ],
   "source": [
    "import math\n",
    "\n",
    "data = [4, 2, 5, 8, 6]\n",
    "\n",
    "def standard_dev (data):\n",
    "    n = len(data)\n",
    "    mean = sum(data)/n\n",
    "    deviations = []\n",
    "\n",
    "    for number in data:\n",
    "        deviations.append(number - mean)\n",
    "\n",
    "    elevated_data = []\n",
    "    for number in deviations:\n",
    "        elevated_data.append(number**2)\n",
    "    \n",
    "    return math.sqrt(sum(elevated_data)/n)    \n",
    "\n",
    "std_data = standard_dev(data)\n",
    "print(std_data)"
   ]
  }
 ],
 "metadata": {
  "kernelspec": {
   "display_name": "Python 3",
   "language": "python",
   "name": "python3"
  },
  "language_info": {
   "codemirror_mode": {
    "name": "ipython",
    "version": 3
   },
   "file_extension": ".py",
   "mimetype": "text/x-python",
   "name": "python",
   "nbconvert_exporter": "python",
   "pygments_lexer": "ipython3",
   "version": "3.11.4"
  }
 },
 "nbformat": 4,
 "nbformat_minor": 5
}
